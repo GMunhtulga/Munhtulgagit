{
 "cells": [
  {
   "cell_type": "code",
   "execution_count": 11,
   "id": "fcf4aa38",
   "metadata": {},
   "outputs": [
    {
     "name": "stdout",
     "output_type": "stream",
     "text": [
      "the last number of the list is 10\n",
      "the first number of the list is 6\n"
     ]
    }
   ],
   "source": [
    "#1\n",
    "a=[6, 7, 8, 9, 10]\n",
    "print('the last number of the list is', a[-1])\n",
    "print('the first number of the list is', a[0])"
   ]
  },
  {
   "cell_type": "code",
   "execution_count": 2,
   "id": "fabc6bc0",
   "metadata": {},
   "outputs": [
    {
     "name": "stdout",
     "output_type": "stream",
     "text": [
      "the last number of the list is 10\n",
      "the first number of the list is 6\n"
     ]
    }
   ],
   "source": [
    "b=[6, 10]\n",
    "print('the last number of the list is', b[-1])\n",
    "print('the first number of the list is', b[0])"
   ]
  },
  {
   "cell_type": "code",
   "execution_count": 7,
   "id": "8abcb979",
   "metadata": {},
   "outputs": [
    {
     "name": "stdout",
     "output_type": "stream",
     "text": [
      "the first number of the list is 6\n",
      "the last number of the list is 10\n"
     ]
    }
   ],
   "source": [
    "#2\n",
    "a= [6, 7, 8, 9, 10]\n",
    "def printlastnumber(a):\n",
    "    return(print('the last number of the list is', a[-1]))\n",
    "def printfirstnumber(a):\n",
    "    return(print('the first number of the list is', a[0]))\n",
    "printfirstnumber(a)\n",
    "printlastnumber(a)"
   ]
  },
  {
   "cell_type": "code",
   "execution_count": 8,
   "id": "199cf771",
   "metadata": {},
   "outputs": [
    {
     "name": "stdout",
     "output_type": "stream",
     "text": [
      "the first number of the list is 6\n",
      "the last number of the list is 10\n"
     ]
    }
   ],
   "source": [
    "a= [6, 10]\n",
    "def printlastnumber(a):\n",
    "    return(print('the last number of the list is', a[-1]))\n",
    "def printfirstnumber(a):\n",
    "    return(print('the first number of the list is', a[0]))\n",
    "printfirstnumber(a)\n",
    "printlastnumber(a)"
   ]
  },
  {
   "cell_type": "code",
   "execution_count": 1,
   "id": "77f9cb09",
   "metadata": {},
   "outputs": [
    {
     "name": "stdout",
     "output_type": "stream",
     "text": [
      "enter your list4 4 4 4 5 6 7\n",
      "Unique elements of the list using append():\n",
      "\n",
      "4\n",
      " \n",
      "5\n",
      "6\n",
      "7\n"
     ]
    }
   ],
   "source": [
    "#3\n",
    "list_inp = input('enter your list')\n",
    "\n",
    "res_list = []\n",
    "\n",
    "for item in list_inp: \n",
    "    if item not in res_list: \n",
    "        res_list.append(item) \n",
    "\n",
    "print(\"Unique elements of the list using append:\")    \n",
    "for item in res_list: \n",
    "    print(item) "
   ]
  },
  {
   "cell_type": "code",
   "execution_count": 6,
   "id": "a4a0828d",
   "metadata": {},
   "outputs": [
    {
     "name": "stdout",
     "output_type": "stream",
     "text": [
      "enter your list3 4 5 6 7 7 7\n",
      "The unique elements of the input list using set:\n",
      "5\n",
      "6\n",
      " \n",
      "3\n",
      "4\n",
      "7\n"
     ]
    }
   ],
   "source": [
    "list_inp = input('enter your list')\n",
    "\n",
    "set_res = set(list_inp) \n",
    "print(\"The unique elements of the input list using set:\") \n",
    "list_res = (list(set_res))\n",
    " \n",
    "for item in list_res: \n",
    "    print(item)"
   ]
  },
  {
   "cell_type": "code",
   "execution_count": 9,
   "id": "7ef31bc7",
   "metadata": {},
   "outputs": [
    {
     "name": "stdout",
     "output_type": "stream",
     "text": [
      "enter your number13\n",
      "13 is a prime number\n"
     ]
    }
   ],
   "source": [
    "#4\n",
    "num = int(input('enter your number'))\n",
    "\n",
    "if num == 1:\n",
    "    print(num, \"is not a prime number\")\n",
    "elif num > 1:\n",
    "   for i in range(2,num):\n",
    "       if (num % i) == 0:\n",
    "           print(num,\"is not a prime number\")\n",
    "           break\n",
    "   else:\n",
    "       print(num,\"is a prime number\")\n",
    "else:\n",
    "   print(num,\"is not a prime number\")"
   ]
  },
  {
   "cell_type": "code",
   "execution_count": 9,
   "id": "c16a2f5a",
   "metadata": {},
   "outputs": [
    {
     "name": "stdout",
     "output_type": "stream",
     "text": [
      "enter your listabcde43/\n",
      "8\n"
     ]
    }
   ],
   "source": [
    "#5\n",
    "list= input('enter your list')\n",
    "print(len(list))"
   ]
  },
  {
   "cell_type": "code",
   "execution_count": 10,
   "id": "9f4ec1b2",
   "metadata": {},
   "outputs": [
    {
     "name": "stdout",
     "output_type": "stream",
     "text": [
      "enter your wordwalking\n",
      "7\n"
     ]
    }
   ],
   "source": [
    "word = input('enter your word')\n",
    "count=0\n",
    "for char in word:\n",
    "    count+=1\n",
    "print(count)"
   ]
  },
  {
   "cell_type": "code",
   "execution_count": 33,
   "id": "bb48a8f7",
   "metadata": {},
   "outputs": [
    {
     "name": "stdout",
     "output_type": "stream",
     "text": [
      "enter your wordhaha\n",
      "4\n"
     ]
    }
   ],
   "source": [
    "word= input('enter your word')\n",
    "def countletters(word):\n",
    "    return (print(len(word)))\n",
    "countletters(word)"
   ]
  },
  {
   "cell_type": "code",
   "execution_count": null,
   "id": "c0944b11",
   "metadata": {},
   "outputs": [],
   "source": []
  }
 ],
 "metadata": {
  "kernelspec": {
   "display_name": "Python 3 (ipykernel)",
   "language": "python",
   "name": "python3"
  },
  "language_info": {
   "codemirror_mode": {
    "name": "ipython",
    "version": 3
   },
   "file_extension": ".py",
   "mimetype": "text/x-python",
   "name": "python",
   "nbconvert_exporter": "python",
   "pygments_lexer": "ipython3",
   "version": "3.11.4"
  }
 },
 "nbformat": 4,
 "nbformat_minor": 5
}
